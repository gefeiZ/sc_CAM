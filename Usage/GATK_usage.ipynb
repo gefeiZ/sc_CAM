{
 "cells": [
  {
   "cell_type": "markdown",
   "metadata": {},
   "source": [
    "#  FOR GATK (scATAC-seq)"
   ]
  },
  {
   "cell_type": "markdown",
   "metadata": {},
   "source": [
    "FASTQ to bam before call variants"
   ]
  },
  {
   "cell_type": "code",
   "execution_count": null,
   "metadata": {},
   "outputs": [],
   "source": [
    "!gunzip *.fastq.gunzip"
   ]
  },
  {
   "cell_type": "code",
   "execution_count": null,
   "metadata": {},
   "outputs": [],
   "source": [
    "!bwa mem -t 8 ~/hg38.fa \\\n",
    "    sample1_1.fastq \\\n",
    "    sample1_2.fastq > aligned_sample.sam"
   ]
  },
  {
   "cell_type": "markdown",
   "metadata": {},
   "source": [
    "Get cell barcode and add CB information to bam"
   ]
  },
  {
   "cell_type": "code",
   "execution_count": null,
   "metadata": {},
   "outputs": [],
   "source": [
    "!awk 'NR%4==1 {split($2, a, \":\"); print substr($1,2), a[1]}' sample1_1.fastq sample1_2.fastq > all_barcode_list.txt"
   ]
  },
  {
   "cell_type": "code",
   "execution_count": null,
   "metadata": {},
   "outputs": [],
   "source": [
    "!awk 'BEGIN {OFS=\"\\t\"}\n",
    "     NR==FNR {barcode[$1]=$2; next} \n",
    "     $1 in barcode {print $0, \"CB:Z:\"barcode[$1]}  \n",
    "     !($1 in barcode) {print $0}' all_barcode_list.txt aligned_sample.sam > output_with_barcode.sam\n"
   ]
  },
  {
   "cell_type": "markdown",
   "metadata": {},
   "source": [
    "Sort and Index"
   ]
  },
  {
   "cell_type": "code",
   "execution_count": null,
   "metadata": {},
   "outputs": [],
   "source": [
    "!samtools view -bS output_with_barcode.sam | samtools sort -o output_with_barcode_sorted.bam\n",
    "\n",
    "!samtools index output_with_barcode_sorted.bam"
   ]
  },
  {
   "cell_type": "markdown",
   "metadata": {},
   "source": [
    "Add read group information (if not provided )"
   ]
  },
  {
   "cell_type": "code",
   "execution_count": null,
   "metadata": {},
   "outputs": [],
   "source": [
    "!java -jar ~/picard.jar AddOrReplaceReadGroups \\\n",
    "    I=~/output_with_barcode_sorted.bam \\\n",
    "    O=~/sample.sort.rg.bam \\\n",
    "    RGID=tissue RGLB=lib_all RGPL=illumina RGPU=sn RGSM=SN-A8WNZ"
   ]
  },
  {
   "cell_type": "markdown",
   "metadata": {},
   "source": [
    "### If a suitable bam file has been obtained\n",
    "\n",
    "### The split_cell.sh file can be used directly to subset the single-cell dataset by cell type."
   ]
  },
  {
   "cell_type": "markdown",
   "metadata": {},
   "source": [
    "Just modify the input and output files to use "
   ]
  },
  {
   "cell_type": "markdown",
   "metadata": {},
   "source": [
    "eg:run sbatch split_cell.sh in terminal"
   ]
  },
  {
   "cell_type": "code",
   "execution_count": null,
   "metadata": {},
   "outputs": [],
   "source": [
    "#!/bin/bash\n",
    "\n",
    "#SBATCH --nodes=1              \n",
    "#SBATCH --ntasks-per-node=10    \n",
    "\n",
    "# Define input and output files\n",
    "input_bam=\"~sample.sort.rg.bam\"\n",
    "input_dir=\"~/celltype1/\"\n",
    "output_dir=\"~/celltype1/ori_bam/\"\n",
    "barcodes_file=\"~/celltype1_barcode.txt\"\n",
    "chromosomes_file=\"~/standard_chromosomes.txt\"\n",
    "\n",
    "# Filter low-quality reads and remove duplicates\n",
    "filtered_bam=\"${input_dir}/filtered.bam\"\n",
    "result_bam=\"${input_dir}/result.bam\"\n",
    "samtools view -b -q 30 $input_bam > $filtered_bam\n",
    "#only keep standard chromosomes\n",
    "samtools view -h $filtered_bam | awk 'NR==FNR{{a[$1]; next}} $1 ~ /^@/ || $3 in a' $chromosomes_file - | samtools view -b -o $result_bam\n",
    "\n",
    "# Index the filtered BAM file\n",
    "samtools index $result_bam\n",
    "\n",
    "# Split BAM file by barcode using samtools and awk\n",
    "while read barcode; do\n",
    "    output_bam=\"${output_dir}/${barcode}_cell.bam\"\n",
    "    samtools view -h $result_bam | awk -v barcode=\"CB:Z:$barcode\" '$0 ~ barcode || $1 ~ /^@/' | samtools view -b -o $output_bam\n",
    "\n",
    "    samtools index $output_bam\n",
    "done < $barcodes_file\n",
    "\n",
    "# Verify the number of unique barcodes\n",
    "wc -l $barcodes_file\n"
   ]
  },
  {
   "cell_type": "markdown",
   "metadata": {},
   "source": [
    "# CALL SNV"
   ]
  },
  {
   "cell_type": "code",
   "execution_count": null,
   "metadata": {},
   "outputs": [],
   "source": [
    "#call snp\n",
    "import subprocess\n",
    "import os\n",
    "\n",
    "\n",
    "\n",
    "def call_snv(bam_file, ref, output_dir, gatk_path, dbsnp):\n",
    "    vcf_output = os.path.join(output_dir, bam_file.split('/')[-1].replace('.bam', '.vcf'))\n",
    "    cmd = [\n",
    "        gatk_path, \"HaplotypeCaller\",\n",
    "        \"-R\", ref,\n",
    "        \"-I\", bam_file,\n",
    "        \"--dbsnp\", dbsnp,\n",
    "        \"-O\", vcf_output\n",
    "    ]\n",
    "    subprocess.run(cmd, check=True)\n",
    "\n",
    "filtered_bam_folder = \"~/celltype1/ori_bam/\"\n",
    "filtered_bam_files = [f for f in os.listdir(filtered_bam_folder) if f.endswith('.bam')]\n",
    "filtered_bam_files = [os.path.join(filtered_bam_folder, f) for f in filtered_bam_files]\n",
    "\n",
    "for bam_file in filtered_bam_files:\n",
    "    # Call SNV on the filtered BAM file\n",
    "    call_snv(bam_file,\n",
    "             \"~/hg38.fa\",\n",
    "             \"~/snp_out/\",\n",
    "             \"gatk\",\n",
    "             \"~/resources_broad_hg38_v0_Homo_sapiens_assembly38.dbsnp138.vcf\")\n",
    "\n"
   ]
  }
 ],
 "metadata": {
  "language_info": {
   "name": "python"
  }
 },
 "nbformat": 4,
 "nbformat_minor": 2
}
